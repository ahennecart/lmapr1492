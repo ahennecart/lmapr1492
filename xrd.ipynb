{
 "cells": [
  {
   "cell_type": "code",
   "execution_count": 2,
   "metadata": {},
   "outputs": [
    {
     "name": "stdout",
     "output_type": "stream",
     "text": [
      "ok\n"
     ]
    }
   ],
   "source": [
    "from pymatgen.core.operations import *\n",
    "from pymatgen.analysis.diffraction.xrd import *\n",
    "\n"
   ]
  },
  {
   "cell_type": "code",
   "execution_count": 5,
   "metadata": {},
   "outputs": [
    {
     "name": "stdout",
     "output_type": "stream",
     "text": [
      "DiffractionPattern\n",
      "$2\\Theta$: [11.37274394 22.85948044 24.74963786 25.63070374 28.90516333 31.15331565\n",
      " 34.58491758 36.54145266 39.58307914 43.03118206 46.19851981 46.69818126\n",
      " 49.27396779 49.73325342 50.27315406 50.75902956 52.67010269 54.07197565\n",
      " 56.33967172 57.20550018 57.69617789 59.39428474 59.88853234 61.13661681\n",
      " 64.96674314 65.36577224 67.83163886 68.27755669 68.68065936 69.40111727\n",
      " 70.28231545 71.47303545 72.95376682 73.75001704 74.18036694 74.60980289\n",
      " 76.10698486 76.54590013 77.66042357 78.8751652  81.13384998 82.94919182\n",
      " 83.43053947 83.78198738 85.25013699 87.82857445 87.84145252 88.61756499\n",
      " 89.06987064 89.3805542  89.79417159]\n",
      "Intensity: [5.46921998e-02 1.12768310e+01 1.81618185e+00 2.06977736e+01\n",
      " 1.00000000e+02 4.25805290e+00 2.15231176e+00 6.71711011e-01\n",
      " 3.77126577e+01 3.56018443e+01 7.76043824e+00 6.32230248e+00\n",
      " 9.23946594e+00 7.60480060e-01 2.89836779e-01 3.45271837e+00\n",
      " 1.88831138e+01 9.17310354e-01 3.19822117e+00 2.13610358e+00\n",
      " 1.58095121e-01 2.11931687e-01 1.12556289e+01 4.92977739e+00\n",
      " 2.85278580e+00 1.39551109e+01 2.86079160e-01 2.42234473e-01\n",
      " 2.84361567e+00 4.37153071e+00 1.59592949e+01 8.12436373e-01\n",
      " 1.37151777e+00 1.10727863e+00 1.00131043e+00 1.40760937e-01\n",
      " 6.02199992e-01 1.10547193e+01 2.48534227e+00 6.09629363e+00\n",
      " 3.09830158e+00 2.28658487e-01 2.09262726e+00 3.19255349e-01\n",
      " 2.57894783e+00 2.11778546e-01 1.71897748e+00 5.19085487e+00\n",
      " 9.44174098e-01 7.10878323e-01 1.29624886e+00]\n"
     ]
    }
   ],
   "source": [
    "from pymatgen.core.operations import *\n",
    "from pymatgen.analysis.diffraction.xrd import *\n",
    "from pymatgen.io.cif import CifParser\n",
    "\n",
    "parser = CifParser(\"TbTlSe2_mp-569507_symmetrized.cif\")\n",
    "structure = parser.get_structures()[0]\n",
    "\n",
    "xrdCalc = XRDCalculator()\n",
    "XRD = xrdCalc.get_pattern(structure)\n",
    "print(XRD)"
   ]
  },
  {
   "cell_type": "code",
   "execution_count": 28,
   "metadata": {},
   "outputs": [
    {
     "name": "stdout",
     "output_type": "stream",
     "text": [
      "DiffractionPattern\n",
      "$2\\Theta$: [11.37274394 22.85948044 24.74963786 25.63070374 28.90516333 31.15331565\n",
      " 34.58491758 36.54145266 39.58307914 43.03118206 46.19851981 46.69818126\n",
      " 49.27396779 49.73325342 50.27315406 50.75902956 52.67010269 54.07197565\n",
      " 56.33967172 57.20550018 57.69617789 59.39428474 59.88853234 61.13661681\n",
      " 64.96674314 65.36577224 67.83163886 68.27755669 68.68065936 69.40111727\n",
      " 70.28231545 71.47303545 72.95376682 73.75001704 74.18036694 74.60980289\n",
      " 76.10698486 76.54590013 77.66042357 78.8751652  81.13384998 82.94919182\n",
      " 83.43053947 83.78198738 85.25013699 87.82857445 87.84145252 88.61756499\n",
      " 89.06987064 89.3805542  89.79417159]\n",
      "Intensity: [5.46921998e-02 1.12768310e+01 1.81618185e+00 2.06977736e+01\n",
      " 1.00000000e+02 4.25805290e+00 2.15231176e+00 6.71711011e-01\n",
      " 3.77126577e+01 3.56018443e+01 7.76043824e+00 6.32230248e+00\n",
      " 9.23946594e+00 7.60480060e-01 2.89836779e-01 3.45271837e+00\n",
      " 1.88831138e+01 9.17310354e-01 3.19822117e+00 2.13610358e+00\n",
      " 1.58095121e-01 2.11931687e-01 1.12556289e+01 4.92977739e+00\n",
      " 2.85278580e+00 1.39551109e+01 2.86079160e-01 2.42234473e-01\n",
      " 2.84361567e+00 4.37153071e+00 1.59592949e+01 8.12436373e-01\n",
      " 1.37151777e+00 1.10727863e+00 1.00131043e+00 1.40760937e-01\n",
      " 6.02199992e-01 1.10547193e+01 2.48534227e+00 6.09629363e+00\n",
      " 3.09830158e+00 2.28658487e-01 2.09262726e+00 3.19255349e-01\n",
      " 2.57894783e+00 2.11778546e-01 1.71897748e+00 5.19085487e+00\n",
      " 9.44174098e-01 7.10878323e-01 1.29624886e+00]\n"
     ]
    }
   ],
   "source": [
    "from pymatgen.core.operations import *\n",
    "from pymatgen.analysis.diffraction.xrd import *\n",
    "from pymatgen.io.cif import CifParser\n",
    "\n",
    "parser = CifParser(\"TbTlSe2_mp-569507_symmetrized.cif\")\n",
    "structure = parser.get_structures()[0]\n",
    "\n",
    "xrdCalc = XRDCalculator()\n",
    "XRD = xrdCalc.get_pattern(structure)\n",
    "\n",
    "print(XRD)"
   ]
  },
  {
   "cell_type": "code",
   "execution_count": 54,
   "metadata": {},
   "outputs": [
    {
     "name": "stdout",
     "output_type": "stream",
     "text": [
      "Voici la liste de l'intensité de tous les pics:\n",
      "[5.46921998e-02 1.12768310e+01 1.81618185e+00 2.06977736e+01\n",
      " 1.00000000e+02 4.25805290e+00 2.15231176e+00 6.71711011e-01\n",
      " 3.77126577e+01 3.56018443e+01 7.76043824e+00 6.32230248e+00\n",
      " 9.23946594e+00 7.60480060e-01 2.89836779e-01 3.45271837e+00\n",
      " 1.88831138e+01 9.17310354e-01 3.19822117e+00 2.13610358e+00\n",
      " 1.58095121e-01 2.11931687e-01 1.12556289e+01 4.92977739e+00\n",
      " 2.85278580e+00 1.39551109e+01 2.86079160e-01 2.42234473e-01\n",
      " 2.84361567e+00 4.37153071e+00 1.59592949e+01 8.12436373e-01\n",
      " 1.37151777e+00 1.10727863e+00 1.00131043e+00 1.40760937e-01\n",
      " 6.02199992e-01 1.10547193e+01 2.48534227e+00 6.09629363e+00\n",
      " 3.09830158e+00 2.28658487e-01 2.09262726e+00 3.19255349e-01\n",
      " 2.57894783e+00 2.11778546e-01 1.71897748e+00 5.19085487e+00\n",
      " 9.44174098e-01 7.10878323e-01 1.29624886e+00]\n",
      "\n",
      "On néglige ceux trop petit pour être considéré comme des pics et on garde donc les 2ème, 4ème et 5ème éléments du tableau pour la suite\n",
      "\n",
      "Pour le premier pic, on a une intensité de :\n",
      "11.276831011614219\n",
      "Un angle de diffraction de :\n",
      "22.85948043617485\n",
      "Et des indices HKL tel que :\n",
      "[{'hkl': (0, 0, 2), 'multiplicity': 2}]\n",
      "\n",
      "Pour le deuxième pic, on a une intensité de :\n",
      "20.69777358981951\n",
      "Un angle de diffraction de :\n",
      "25.630703736170837\n",
      "Et des indices HKL tel que :\n",
      "[{'hkl': (1, 1, 0), 'multiplicity': 6}]\n",
      "\n",
      "Pour le troisième pic, on a une intensité de :\n",
      "100.0\n",
      "Un angle de diffraction de :\n",
      "28.90516332838087\n",
      "Et des indices HKL tel que :\n",
      "[{'hkl': (1, 1, 2), 'multiplicity': 2}, {'hkl': (1, 0, -1), 'multiplicity': 4}]\n"
     ]
    }
   ],
   "source": [
    "from pymatgen.core.operations import *\n",
    "from pymatgen.analysis.diffraction.xrd import *\n",
    "from pymatgen.analysis.diffraction.core import *\n",
    "from pymatgen.io.cif import CifParser\n",
    "\n",
    "parser = CifParser(\"TbTlSe2_mp-569507_symmetrized.cif\")\n",
    "structure = parser.get_structures()[0]\n",
    "\n",
    "xrdCalc = XRDCalculator()\n",
    "XRD = xrdCalc.get_pattern(structure)\n",
    "\n",
    "print(\"Voici la liste de l'intensité de tous les pics:\")\n",
    "print(XRD.y)\n",
    "print(\"\")\n",
    "print(\"On néglige ceux trop petit pour être considéré comme des pics et on garde donc les 2ème, 4ème et 5ème éléments du tableau pour la suite\")\n",
    "print(\"\")\n",
    "print(\"Pour le premier pic, on a une intensité de :\")\n",
    "print(XRD.y[1])\n",
    "print(\"Un angle de diffraction de :\")\n",
    "print(XRD.x[1])\n",
    "print(\"Et des indices HKL tel que :\")\n",
    "print(XRD.hkls[1])\n",
    "print(\"\")\n",
    "print(\"Pour le deuxième pic, on a une intensité de :\")\n",
    "print(XRD.y[3])\n",
    "print(\"Un angle de diffraction de :\")\n",
    "print(XRD.x[3])\n",
    "print(\"Et des indices HKL tel que :\")\n",
    "print(XRD.hkls[3])\n",
    "print(\"\")\n",
    "print(\"Pour le troisième pic, on a une intensité de :\")\n",
    "print(XRD.y[4])\n",
    "print(\"Un angle de diffraction de :\")\n",
    "print(XRD.x[4])\n",
    "print(\"Et des indices HKL tel que :\")\n",
    "print(XRD.hkls[4])"
   ]
  },
  {
   "cell_type": "code",
   "execution_count": null,
   "metadata": {},
   "outputs": [],
   "source": []
  }
 ],
 "metadata": {
  "kernelspec": {
   "display_name": "Python 3",
   "language": "python",
   "name": "python3"
  },
  "language_info": {
   "codemirror_mode": {
    "name": "ipython",
    "version": 3
   },
   "file_extension": ".py",
   "mimetype": "text/x-python",
   "name": "python",
   "nbconvert_exporter": "python",
   "pygments_lexer": "ipython3",
   "version": "3.6.8"
  }
 },
 "nbformat": 4,
 "nbformat_minor": 2
}
