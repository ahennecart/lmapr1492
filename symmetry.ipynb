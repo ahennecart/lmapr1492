{
 "cells": [
  {
   "cell_type": "code",
   "execution_count": 37,
   "metadata": {},
   "outputs": [
    {
     "name": "stdout",
     "output_type": "stream",
     "text": [
      "Application de la symétrie (1) (-x,-y,-z) (l'opérateur d'inversion) sur l'atome de Tb situé en (1,1,1)\n",
      "Cela donne l'atome de Tb situé en :\n",
      "[-1. -1. -1.]\n",
      "Application de la symétrie (2) (-x+y,y,z) sur l'atome de Tl situé en (1,1,0.5)\n",
      "Cela donne l'atome de Tl situé en :\n",
      "[0.  1.  0.5]\n",
      "Application de la symétrie (3) (y, x, -z) sur l'atome de Tb situé en (0,0,0)\n",
      "Cela donne l'atome de Tb situé en :\n",
      "[0. 0. 0.]\n",
      "\n",
      "Les images ilustrant les symétries se trouvent dans le dossiers git sour le nom de Symetrie1.PNG 2 et 3, je n'ai pas réussi à les afficher dans la console\n"
     ]
    }
   ],
   "source": [
    "from pymatgen.core.operations import *\n",
    "\n",
    "print(\"Application de la symétrie (1) (-x,-y,-z) (l'opérateur d'inversion) sur l'atome de Tb situé en (1,1,1)\")\n",
    "S1 = SymmOp.from_xyz_string(\"-x,-y,-z\")\n",
    "print(\"Cela donne l'atome de Tb situé en :\")\n",
    "print(S1.operate([1,1,1]))\n",
    "print(\"Application de la symétrie (2) (-x+y,y,z) sur l'atome de Tl situé en (1,1,0.5)\")\n",
    "S2 = SymmOp.from_xyz_string(\"-x+y,y,1z\")\n",
    "print(\"Cela donne l'atome de Tl situé en :\")\n",
    "print(S2.operate([1,1,0.5]))\n",
    "print(\"Application de la symétrie (3) (y, x, -z) sur l'atome de Tb situé en (0,0,0)\")\n",
    "S3 = SymmOp.from_xyz_string(\"y,x,-z\")\n",
    "print(\"Cela donne l'atome de Tb situé en :\")\n",
    "print(S3.operate([0,0,0]))\n",
    "print(\"\")\n",
    "print(\"Les images ilustrant les symétries se trouvent dans le dossiers git sour le nom de Symetrie1.PNG 2 et 3, je n'ai pas réussi à les afficher dans la console\")"
   ]
  },
  {
   "cell_type": "code",
   "execution_count": null,
   "metadata": {},
   "outputs": [],
   "source": []
  }
 ],
 "metadata": {
  "kernelspec": {
   "display_name": "Python 3",
   "language": "python",
   "name": "python3"
  },
  "language_info": {
   "codemirror_mode": {
    "name": "ipython",
    "version": 3
   },
   "file_extension": ".py",
   "mimetype": "text/x-python",
   "name": "python",
   "nbconvert_exporter": "python",
   "pygments_lexer": "ipython3",
   "version": "3.6.8"
  }
 },
 "nbformat": 4,
 "nbformat_minor": 2
}
