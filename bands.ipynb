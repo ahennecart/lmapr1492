{
 "cells": [
  {
   "cell_type": "code",
   "execution_count": 1,
   "metadata": {},
   "outputs": [],
   "source": [
    "from pymatgen.core.operations import *\n",
    "from pymatgen.io.cif import CifParser\n",
    "\n",
    "parser = CifParser(\"TbTlSe2_mp-569507_symmetrized.cif\")\n",
    "structure = parser.get_structures()[0]"
   ]
  },
  {
   "cell_type": "code",
   "execution_count": 2,
   "metadata": {},
   "outputs": [],
   "source": [
    "from pymatgen.core.operations import *\n",
    "from pymatgen.io.cif import CifParser\n",
    "from pymatgen.electronic_structure.bandstructure import *\n",
    "\n",
    "parser = CifParser(\"TbTlSe2_mp-569507_symmetrized.cif\")\n",
    "structure = parser.get_structures()[0]"
   ]
  },
  {
   "cell_type": "code",
   "execution_count": 20,
   "metadata": {},
   "outputs": [
    {
     "name": "stdout",
     "output_type": "stream",
     "text": [
      "Full Formula (Tb1 Tl1 Se2)\n",
      "Reduced Formula: TbTlSe2\n",
      "abc   :   8.150342   8.150342   8.150342\n",
      "angles:  29.891463  29.891463  29.891463\n",
      "Sites (4)\n",
      "  #  SP           a         b         c\n",
      "---  ----  --------  --------  --------\n",
      "  0  Tb    0         0         0\n",
      "  1  Tl    0.5       0.5       0.5\n",
      "  2  Se    0.265164  0.265164  0.265164\n",
      "  3  Se    0.734836  0.734836  0.734836\n",
      "############\n"
     ]
    },
    {
     "ename": "AttributeError",
     "evalue": "'Structure' object has no attribute 'band'",
     "output_type": "error",
     "traceback": [
      "\u001b[0;31m---------------------------------------------------------------------------\u001b[0m",
      "\u001b[0;31mAttributeError\u001b[0m                            Traceback (most recent call last)",
      "\u001b[0;32m<ipython-input-20-c426c5d6811e>\u001b[0m in \u001b[0;36m<module>\u001b[0;34m\u001b[0m\n\u001b[1;32m      8\u001b[0m \u001b[0mprint\u001b[0m\u001b[0;34m(\u001b[0m\u001b[0mElStruct\u001b[0m\u001b[0;34m.\u001b[0m\u001b[0mstructure\u001b[0m\u001b[0;34m)\u001b[0m\u001b[0;34m\u001b[0m\u001b[0;34m\u001b[0m\u001b[0m\n\u001b[1;32m      9\u001b[0m \u001b[0mprint\u001b[0m\u001b[0;34m(\u001b[0m\u001b[0;34m\"############\"\u001b[0m\u001b[0;34m)\u001b[0m\u001b[0;34m\u001b[0m\u001b[0;34m\u001b[0m\u001b[0m\n\u001b[0;32m---> 10\u001b[0;31m \u001b[0mprint\u001b[0m\u001b[0;34m(\u001b[0m\u001b[0mstructure\u001b[0m\u001b[0;34m.\u001b[0m\u001b[0mband\u001b[0m\u001b[0;34m)\u001b[0m\u001b[0;34m\u001b[0m\u001b[0;34m\u001b[0m\u001b[0m\n\u001b[0m",
      "\u001b[0;31mAttributeError\u001b[0m: 'Structure' object has no attribute 'band'"
     ]
    }
   ],
   "source": [
    "from pymatgen.core.operations import *\n",
    "from pymatgen.io.cif import CifParser\n",
    "from pymatgen.symmetry.bandstructure import *\n",
    "\n",
    "parser = CifParser(\"TbTlSe2_mp-569507_symmetrized.cif\")\n",
    "structure = parser.get_structures()[0]\n",
    "ElStruct = HighSymmKpath(structure)\n",
    "print(ElStruct.structure)\n",
    "print(\"############\")\n",
    "print(structure.band)"
   ]
  },
  {
   "cell_type": "code",
   "execution_count": 52,
   "metadata": {},
   "outputs": [
    {
     "name": "stdout",
     "output_type": "stream",
     "text": [
      "La bande interdite est telle que :\n",
      "{'direct': False, 'energy': 2.1725999999999996, 'transition': '(0.130,0.000,-0.130)-(0.553,0.553,0.061)'}\n",
      "#######\n",
      "{'band_index': defaultdict(<class 'list'>, {<Spin.up: 1>: [16]}), 'kpoint_index': [69], 'kpoint': <pymatgen.electronic_structure.bandstructure.Kpoint object at 0x7f8c7fca3320>, 'energy': 2.5684, 'projections': {<Spin.up: 1>: array([[0.000e+00, 8.150e-02, 2.400e-03, 2.400e-03],\n",
      "       [5.200e-03, 8.000e-04, 2.190e-02, 2.190e-02],\n",
      "       [9.000e-03, 3.200e-03, 1.422e-01, 1.422e-01],\n",
      "       [1.550e-02, 2.300e-03, 6.580e-02, 6.580e-02],\n",
      "       [5.000e-04, 1.300e-03, 3.000e-04, 3.000e-04],\n",
      "       [3.400e-03, 6.000e-04, 0.000e+00, 0.000e+00],\n",
      "       [3.220e-02, 1.000e-04, 5.000e-04, 5.000e-04],\n",
      "       [1.030e-02, 1.700e-03, 1.000e-04, 1.000e-04],\n",
      "       [2.000e-04, 4.000e-04, 1.000e-04, 1.000e-04]])}}\n"
     ]
    }
   ],
   "source": [
    "from pymatgen.core.operations import *\n",
    "from pymatgen.electronic_structure.bandstructure import *\n",
    "from pymatgen.ext.matproj import *\n",
    "\n",
    "with MPRester (\"xc5hpBnRqKJUV1Ow\") as m:\n",
    "    bandStructure = m.get_bandstructure_by_material_id(\"mp-569507\")\n",
    "    print(\"La bande interdite est telle que :\")\n",
    "    print(bandStructure.get_band_gap())\n",
    "    print(\"#######\")\n",
    "    print(bandStructure.get_vbm())"
   ]
  },
  {
   "cell_type": "code",
   "execution_count": 60,
   "metadata": {},
   "outputs": [
    {
     "name": "stdout",
     "output_type": "stream",
     "text": [
      "La bande interdite a une énergie de :\n",
      "2.1725999999999996\n",
      "#######\n",
      "{<Spin.up: 1>: array([[0.000e+00, 8.150e-02, 2.400e-03, 2.400e-03],\n",
      "       [5.200e-03, 8.000e-04, 2.190e-02, 2.190e-02],\n",
      "       [9.000e-03, 3.200e-03, 1.422e-01, 1.422e-01],\n",
      "       [1.550e-02, 2.300e-03, 6.580e-02, 6.580e-02],\n",
      "       [5.000e-04, 1.300e-03, 3.000e-04, 3.000e-04],\n",
      "       [3.400e-03, 6.000e-04, 0.000e+00, 0.000e+00],\n",
      "       [3.220e-02, 1.000e-04, 5.000e-04, 5.000e-04],\n",
      "       [1.030e-02, 1.700e-03, 1.000e-04, 1.000e-04],\n",
      "       [2.000e-04, 4.000e-04, 1.000e-04, 1.000e-04]])}\n"
     ]
    }
   ],
   "source": [
    "from pymatgen.core.operations import *\n",
    "from pymatgen.electronic_structure.bandstructure import *\n",
    "from pymatgen.ext.matproj import *\n",
    "\n",
    "with MPRester (\"xc5hpBnRqKJUV1Ow\") as m:\n",
    "    bandStructure = m.get_bandstructure_by_material_id(\"mp-569507\")\n",
    "    print(\"La bande interdite a une énergie de :\")\n",
    "    print(bandStructure.get_band_gap()[\"energy\"])\n",
    "    print(\"#######\")\n",
    "    print(bandStructure.get_vbm()[\"projections\"])"
   ]
  },
  {
   "cell_type": "code",
   "execution_count": 80,
   "metadata": {},
   "outputs": [
    {
     "name": "stdout",
     "output_type": "stream",
     "text": [
      "La bande interdite a une énergie de :\n",
      "2.1725999999999996\n",
      "#######\n",
      "dict_keys(['band_index', 'kpoint_index', 'kpoint', 'energy', 'projections'])\n",
      "dict_keys([<Spin.up: 1>])\n",
      "[[0.000e+00 8.150e-02 2.400e-03 2.400e-03]\n",
      " [5.200e-03 8.000e-04 2.190e-02 2.190e-02]\n",
      " [9.000e-03 3.200e-03 1.422e-01 1.422e-01]\n",
      " [1.550e-02 2.300e-03 6.580e-02 6.580e-02]\n",
      " [5.000e-04 1.300e-03 3.000e-04 3.000e-04]\n",
      " [3.400e-03 6.000e-04 0.000e+00 0.000e+00]\n",
      " [3.220e-02 1.000e-04 5.000e-04 5.000e-04]\n",
      " [1.030e-02 1.700e-03 1.000e-04 1.000e-04]\n",
      " [2.000e-04 4.000e-04 1.000e-04 1.000e-04]]\n",
      "[0.     0.0815 0.0024 0.0024]\n"
     ]
    }
   ],
   "source": [
    "from pymatgen.core.operations import *\n",
    "from pymatgen.electronic_structure.bandstructure import *\n",
    "from pymatgen.ext.matproj import *\n",
    "\n",
    "with MPRester (\"xc5hpBnRqKJUV1Ow\") as m:\n",
    "    bandStructure = m.get_bandstructure_by_material_id(\"mp-569507\")\n",
    "    print(\"La bande interdite a une énergie de :\")\n",
    "    print(bandStructure.get_band_gap()[\"energy\"])\n",
    "    print(\"#######\")\n",
    "    print(bandStructure.get_vbm().keys())\n",
    "    print(bandStructure.get_vbm()[\"projections\"].keys())\n",
    "    print(bandStructure.get_vbm()[\"projections\"][Spin.up])\n",
    "    print(bandStructure.get_vbm()[\"projections\"][Spin.up][0])"
   ]
  },
  {
   "cell_type": "code",
   "execution_count": 2,
   "metadata": {},
   "outputs": [
    {
     "name": "stdout",
     "output_type": "stream",
     "text": [
      "La bande interdite a une énergie de :\n",
      "2.1725999999999996\n",
      "\n",
      "Voici les informations à propos des bandes de valence :\n",
      "{'band_index': defaultdict(<class 'list'>, {<Spin.up: 1>: [16]}), 'kpoint_index': [69], 'kpoint': <pymatgen.electronic_structure.bandstructure.Kpoint object at 0x7f2d008ce278>, 'energy': 2.5684, 'projections': {<Spin.up: 1>: array([[0.000e+00, 8.150e-02, 2.400e-03, 2.400e-03],\n",
      "       [5.200e-03, 8.000e-04, 2.190e-02, 2.190e-02],\n",
      "       [9.000e-03, 3.200e-03, 1.422e-01, 1.422e-01],\n",
      "       [1.550e-02, 2.300e-03, 6.580e-02, 6.580e-02],\n",
      "       [5.000e-04, 1.300e-03, 3.000e-04, 3.000e-04],\n",
      "       [3.400e-03, 6.000e-04, 0.000e+00, 0.000e+00],\n",
      "       [3.220e-02, 1.000e-04, 5.000e-04, 5.000e-04],\n",
      "       [1.030e-02, 1.700e-03, 1.000e-04, 1.000e-04],\n",
      "       [2.000e-04, 4.000e-04, 1.000e-04, 1.000e-04]])}}\n",
      "\n",
      "Et voici les informations à propos des bandes de conduction :\n",
      "{'band_index': defaultdict(<class 'list'>, {<Spin.up: 1>: [17]}), 'kpoint_index': [95], 'kpoint': <pymatgen.electronic_structure.bandstructure.Kpoint object at 0x7f2d008ce8d0>, 'energy': 4.741, 'projections': {<Spin.up: 1>: array([[3.320e-02, 5.900e-03, 4.700e-03, 4.700e-03],\n",
      "       [8.000e-03, 2.120e-02, 3.900e-03, 3.900e-03],\n",
      "       [1.000e-04, 2.000e-04, 2.070e-02, 2.070e-02],\n",
      "       [0.000e+00, 0.000e+00, 0.000e+00, 0.000e+00],\n",
      "       [0.000e+00, 0.000e+00, 0.000e+00, 0.000e+00],\n",
      "       [1.443e-01, 2.000e-04, 1.300e-03, 1.300e-03],\n",
      "       [1.305e-01, 1.600e-03, 4.600e-03, 4.600e-03],\n",
      "       [0.000e+00, 0.000e+00, 0.000e+00, 0.000e+00],\n",
      "       [1.155e-01, 4.300e-03, 8.700e-03, 8.700e-03]])}}\n"
     ]
    }
   ],
   "source": [
    "from pymatgen.core.operations import *\n",
    "from pymatgen.electronic_structure.bandstructure import *\n",
    "from pymatgen.ext.matproj import *\n",
    "\n",
    "with MPRester (\"xc5hpBnRqKJUV1Ow\") as m:\n",
    "    bandStructure = m.get_bandstructure_by_material_id(\"mp-569507\")\n",
    "    print(\"La bande interdite a une énergie de :\")\n",
    "    print(bandStructure.get_band_gap()[\"energy\"])\n",
    "    print(\"\")\n",
    "    print(\"Voici les informations à propos des bandes de valence :\")\n",
    "    print(bandStructure.get_vbm())\n",
    "    print(\"\")\n",
    "    print(\"Et voici les informations à propos des bandes de conduction :\")\n",
    "    print(bandStructure.get_cbm())"
   ]
  },
  {
   "cell_type": "code",
   "execution_count": null,
   "metadata": {},
   "outputs": [],
   "source": []
  }
 ],
 "metadata": {
  "kernelspec": {
   "display_name": "Python 3",
   "language": "python",
   "name": "python3"
  },
  "language_info": {
   "codemirror_mode": {
    "name": "ipython",
    "version": 3
   },
   "file_extension": ".py",
   "mimetype": "text/x-python",
   "name": "python",
   "nbconvert_exporter": "python",
   "pygments_lexer": "ipython3",
   "version": "3.6.8"
  }
 },
 "nbformat": 4,
 "nbformat_minor": 2
}
