{
 "cells": [
  {
   "cell_type": "code",
   "execution_count": 1,
   "metadata": {},
   "outputs": [
    {
     "name": "stdout",
     "output_type": "stream",
     "text": [
      "vecteur de base du reseau direct : \n",
      "a = 4.379485648268755, b = 4.379485648268755, c = 4.379485648268755\n",
      "Vecteurs de base du reseau reciproque : \n",
      "a = 1.7571239179681286, b = 1.7571239179681286, c = 1.7571239179681286\n",
      "Le type de maille est :\n",
      "cubic\n",
      "le systeme cristalin est :\n",
      "cubic\n",
      "Le groupe ponctuel est :\n",
      "-43m\n"
     ]
    }
   ],
   "source": [
    "from pymatgen.ext.matproj import MPRester\n",
    "from pymatgen.io.cif import CifWriter\n",
    "from pymatgen import Lattice\n",
    "from pymatgen.symmetry.analyzer import SpacegroupAnalyzer\n",
    "\n",
    "\n",
    "with MPRester(\"xc5hpBnRqKJUV1Ow\") as m:\n",
    "\n",
    "    # Structure for material id\n",
    "    structure = m.get_structure_by_material_id(\"mp-31454\")\n",
    "\n",
    "spacegroupe = SpacegroupAnalyzer(structure)\n",
    "\n",
    "lat = structure.lattice\n",
    "abc = lat.abc\n",
    "print(\"vecteur de base du reseau direct : \")\n",
    "print(\"a = \" + str(abc[0]) + \", b = \" + str(abc[1]) + \", c = \" + str(abc[2]))\n",
    "abcprim = lat.reciprocal_lattice.abc\n",
    "print(\"Vecteurs de base du reseau reciproque : \")\n",
    "print(\"a = \" + str(abcprim[0]) + \", b = \" + str(abcprim[1]) + \", c = \" + str(abcprim[2]))\n",
    "latType = spacegroupe.get_lattice_type()\n",
    "print(\"Le type de maille est :\")\n",
    "print(latType)\n",
    "latCryst = spacegroupe.get_crystal_system()\n",
    "print(\"le systeme cristalin est :\")\n",
    "print(latCryst)\n",
    "latGroupe = spacegroupe.get_point_group_symbol()\n",
    "print(\"Le groupe ponctuel est :\")\n",
    "print(latGroupe)"
   ]
  },
  {
   "cell_type": "code",
   "execution_count": null,
   "metadata": {},
   "outputs": [],
   "source": []
  }
 ],
 "metadata": {
  "kernelspec": {
   "display_name": "Python 3",
   "language": "python",
   "name": "python3"
  },
  "language_info": {
   "codemirror_mode": {
    "name": "ipython",
    "version": 3
   },
   "file_extension": ".py",
   "mimetype": "text/x-python",
   "name": "python",
   "nbconvert_exporter": "python",
   "pygments_lexer": "ipython3",
   "version": "3.6.8"
  }
 },
 "nbformat": 4,
 "nbformat_minor": 2
}
