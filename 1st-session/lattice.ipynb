{
 "cells": [
  {
   "cell_type": "code",
   "execution_count": 1,
   "metadata": {},
   "outputs": [
    {
     "ename": "ValueError",
     "evalue": "Invalid cif file with no structures!",
     "output_type": "error",
     "traceback": [
      "\u001b[0;31m---------------------------------------------------------------------------\u001b[0m",
      "\u001b[0;31mValueError\u001b[0m                                Traceback (most recent call last)",
      "\u001b[0;32m<ipython-input-1-19f96c92fbee>\u001b[0m in \u001b[0;36m<module>\u001b[0;34m\u001b[0m\n\u001b[1;32m      1\u001b[0m \u001b[0;32mfrom\u001b[0m \u001b[0mpymatgen\u001b[0m\u001b[0;34m.\u001b[0m\u001b[0mio\u001b[0m\u001b[0;34m.\u001b[0m\u001b[0mcif\u001b[0m \u001b[0;32mimport\u001b[0m \u001b[0mCifParser\u001b[0m\u001b[0;34m\u001b[0m\u001b[0;34m\u001b[0m\u001b[0m\n\u001b[1;32m      2\u001b[0m \u001b[0mparser\u001b[0m \u001b[0;34m=\u001b[0m \u001b[0mCifParser\u001b[0m\u001b[0;34m(\u001b[0m\u001b[0;34m\"mycif.cif\"\u001b[0m\u001b[0;34m)\u001b[0m\u001b[0;34m\u001b[0m\u001b[0;34m\u001b[0m\u001b[0m\n\u001b[0;32m----> 3\u001b[0;31m \u001b[0mstructure\u001b[0m \u001b[0;34m=\u001b[0m \u001b[0mparser\u001b[0m\u001b[0;34m.\u001b[0m\u001b[0mget_structures\u001b[0m\u001b[0;34m(\u001b[0m\u001b[0;34m)\u001b[0m\u001b[0;34m[\u001b[0m\u001b[0;36m0\u001b[0m\u001b[0;34m]\u001b[0m\u001b[0;34m\u001b[0m\u001b[0;34m\u001b[0m\u001b[0m\n\u001b[0m",
      "\u001b[0;32m/usr/local/lib64/python3.6/site-packages/pymatgen/io/cif.py\u001b[0m in \u001b[0;36mget_structures\u001b[0;34m(self, primitive)\u001b[0m\n\u001b[1;32m   1116\u001b[0m             \u001b[0mwarnings\u001b[0m\u001b[0;34m.\u001b[0m\u001b[0mwarn\u001b[0m\u001b[0;34m(\u001b[0m\u001b[0;34m\"Issues encountered while parsing CIF: %s\"\u001b[0m \u001b[0;34m%\u001b[0m \u001b[0;34m\"\\n\"\u001b[0m\u001b[0;34m.\u001b[0m\u001b[0mjoin\u001b[0m\u001b[0;34m(\u001b[0m\u001b[0mself\u001b[0m\u001b[0;34m.\u001b[0m\u001b[0mwarnings\u001b[0m\u001b[0;34m)\u001b[0m\u001b[0;34m)\u001b[0m\u001b[0;34m\u001b[0m\u001b[0;34m\u001b[0m\u001b[0m\n\u001b[1;32m   1117\u001b[0m         \u001b[0;32mif\u001b[0m \u001b[0mlen\u001b[0m\u001b[0;34m(\u001b[0m\u001b[0mstructures\u001b[0m\u001b[0;34m)\u001b[0m \u001b[0;34m==\u001b[0m \u001b[0;36m0\u001b[0m\u001b[0;34m:\u001b[0m\u001b[0;34m\u001b[0m\u001b[0;34m\u001b[0m\u001b[0m\n\u001b[0;32m-> 1118\u001b[0;31m             \u001b[0;32mraise\u001b[0m \u001b[0mValueError\u001b[0m\u001b[0;34m(\u001b[0m\u001b[0;34m\"Invalid cif file with no structures!\"\u001b[0m\u001b[0;34m)\u001b[0m\u001b[0;34m\u001b[0m\u001b[0;34m\u001b[0m\u001b[0m\n\u001b[0m\u001b[1;32m   1119\u001b[0m         \u001b[0;32mreturn\u001b[0m \u001b[0mstructures\u001b[0m\u001b[0;34m\u001b[0m\u001b[0;34m\u001b[0m\u001b[0m\n\u001b[1;32m   1120\u001b[0m \u001b[0;34m\u001b[0m\u001b[0m\n",
      "\u001b[0;31mValueError\u001b[0m: Invalid cif file with no structures!"
     ]
    }
   ],
   "source": [
    "from pymatgen.io.cif import CifParser\n",
    "parser = CifParser(\"mycif.cif\")\n",
    "structure = parser.get_structures()[0]"
   ]
  },
  {
   "cell_type": "code",
   "execution_count": null,
   "metadata": {},
   "outputs": [],
   "source": [
    "from pymatgen.io.cif import CifParser\n",
    "parser = CifParser(\"mycif.cif\")\n",
    "structure = parser.get_structures()[0]"
   ]
  },
  {
   "cell_type": "code",
   "execution_count": 2,
   "metadata": {},
   "outputs": [],
   "source": [
    "from pymatgen.io.cif import CifParser\n",
    "parser = CifParser(\"mycif.cif\")\n",
    "structure = parser.get_structures()[0]"
   ]
  },
  {
   "cell_type": "code",
   "execution_count": 3,
   "metadata": {},
   "outputs": [
    {
     "name": "stdout",
     "output_type": "stream",
     "text": [
      "coucou\n"
     ]
    }
   ],
   "source": [
    "from pymatgen.io.cif import CifParser\n",
    "parser = CifParser(\"mycif.cif\")\n",
    "structure = parser.get_structures()[0]\n",
    "print(\"coucou\")"
   ]
  },
  {
   "cell_type": "code",
   "execution_count": 4,
   "metadata": {},
   "outputs": [
    {
     "ename": "SyntaxError",
     "evalue": "invalid syntax (<ipython-input-4-858b892dc803>, line 2)",
     "output_type": "error",
     "traceback": [
      "\u001b[0;36m  File \u001b[0;32m\"<ipython-input-4-858b892dc803>\"\u001b[0;36m, line \u001b[0;32m2\u001b[0m\n\u001b[0;31m    form pymatgen.core import lattice\u001b[0m\n\u001b[0m                ^\u001b[0m\n\u001b[0;31mSyntaxError\u001b[0m\u001b[0;31m:\u001b[0m invalid syntax\n"
     ]
    }
   ],
   "source": [
    "from pymatgen.io.cif import CifParser\n",
    "form pymatgen.core import lattice\n",
    "\n",
    "parser = CifParser(\"mycif.cif\")\n",
    "structure = parser.get_structures()[0]\n",
    "\n",
    "lat = lattice(structure)\n",
    "print(structure)"
   ]
  },
  {
   "cell_type": "code",
   "execution_count": 5,
   "metadata": {},
   "outputs": [
    {
     "ename": "TypeError",
     "evalue": "'module' object is not callable",
     "output_type": "error",
     "traceback": [
      "\u001b[0;31m---------------------------------------------------------------------------\u001b[0m",
      "\u001b[0;31mTypeError\u001b[0m                                 Traceback (most recent call last)",
      "\u001b[0;32m<ipython-input-5-317e7c54739a>\u001b[0m in \u001b[0;36m<module>\u001b[0;34m\u001b[0m\n\u001b[1;32m      5\u001b[0m \u001b[0mstructure\u001b[0m \u001b[0;34m=\u001b[0m \u001b[0mparser\u001b[0m\u001b[0;34m.\u001b[0m\u001b[0mget_structures\u001b[0m\u001b[0;34m(\u001b[0m\u001b[0;34m)\u001b[0m\u001b[0;34m[\u001b[0m\u001b[0;36m0\u001b[0m\u001b[0;34m]\u001b[0m\u001b[0;34m\u001b[0m\u001b[0;34m\u001b[0m\u001b[0m\n\u001b[1;32m      6\u001b[0m \u001b[0;34m\u001b[0m\u001b[0m\n\u001b[0;32m----> 7\u001b[0;31m \u001b[0mlat\u001b[0m \u001b[0;34m=\u001b[0m \u001b[0mlattice\u001b[0m\u001b[0;34m(\u001b[0m\u001b[0mstructure\u001b[0m\u001b[0;34m)\u001b[0m\u001b[0;34m\u001b[0m\u001b[0;34m\u001b[0m\u001b[0m\n\u001b[0m\u001b[1;32m      8\u001b[0m \u001b[0mprint\u001b[0m\u001b[0;34m(\u001b[0m\u001b[0mstructure\u001b[0m\u001b[0;34m)\u001b[0m\u001b[0;34m\u001b[0m\u001b[0;34m\u001b[0m\u001b[0m\n",
      "\u001b[0;31mTypeError\u001b[0m: 'module' object is not callable"
     ]
    }
   ],
   "source": [
    "from pymatgen.io.cif import CifParser\n",
    "from pymatgen.core import lattice\n",
    "\n",
    "parser = CifParser(\"mycif.cif\")\n",
    "structure = parser.get_structures()[0]\n",
    "\n",
    "lat = lattice(structure)\n",
    "print(structure)"
   ]
  },
  {
   "cell_type": "code",
   "execution_count": 6,
   "metadata": {},
   "outputs": [
    {
     "ename": "AttributeError",
     "evalue": "module 'pymatgen.core.lattice' has no attribute 'lattice'",
     "output_type": "error",
     "traceback": [
      "\u001b[0;31m---------------------------------------------------------------------------\u001b[0m",
      "\u001b[0;31mAttributeError\u001b[0m                            Traceback (most recent call last)",
      "\u001b[0;32m<ipython-input-6-378c7db2843f>\u001b[0m in \u001b[0;36m<module>\u001b[0;34m\u001b[0m\n\u001b[1;32m      5\u001b[0m \u001b[0mstructure\u001b[0m \u001b[0;34m=\u001b[0m \u001b[0mparser\u001b[0m\u001b[0;34m.\u001b[0m\u001b[0mget_structures\u001b[0m\u001b[0;34m(\u001b[0m\u001b[0;34m)\u001b[0m\u001b[0;34m[\u001b[0m\u001b[0;36m0\u001b[0m\u001b[0;34m]\u001b[0m\u001b[0;34m\u001b[0m\u001b[0;34m\u001b[0m\u001b[0m\n\u001b[1;32m      6\u001b[0m \u001b[0;34m\u001b[0m\u001b[0m\n\u001b[0;32m----> 7\u001b[0;31m \u001b[0mlat\u001b[0m \u001b[0;34m=\u001b[0m \u001b[0mlattice\u001b[0m\u001b[0;34m.\u001b[0m\u001b[0mlattice\u001b[0m\u001b[0;34m(\u001b[0m\u001b[0mstructure\u001b[0m\u001b[0;34m)\u001b[0m\u001b[0;34m\u001b[0m\u001b[0;34m\u001b[0m\u001b[0m\n\u001b[0m\u001b[1;32m      8\u001b[0m \u001b[0mprint\u001b[0m\u001b[0;34m(\u001b[0m\u001b[0mstructure\u001b[0m\u001b[0;34m)\u001b[0m\u001b[0;34m\u001b[0m\u001b[0;34m\u001b[0m\u001b[0m\n",
      "\u001b[0;31mAttributeError\u001b[0m: module 'pymatgen.core.lattice' has no attribute 'lattice'"
     ]
    }
   ],
   "source": [
    "from pymatgen.io.cif import CifParser\n",
    "from pymatgen.core import lattice\n",
    "\n",
    "parser = CifParser(\"mycif.cif\")\n",
    "structure = parser.get_structures()[0]\n",
    "\n",
    "lat = lattice.lattice(structure)\n",
    "print(structure)"
   ]
  },
  {
   "cell_type": "code",
   "execution_count": 7,
   "metadata": {},
   "outputs": [
    {
     "ename": "TypeError",
     "evalue": "'module' object is not callable",
     "output_type": "error",
     "traceback": [
      "\u001b[0;31m---------------------------------------------------------------------------\u001b[0m",
      "\u001b[0;31mTypeError\u001b[0m                                 Traceback (most recent call last)",
      "\u001b[0;32m<ipython-input-7-9266c0a4943b>\u001b[0m in \u001b[0;36m<module>\u001b[0;34m\u001b[0m\n\u001b[1;32m      5\u001b[0m \u001b[0mstructure\u001b[0m \u001b[0;34m=\u001b[0m \u001b[0mparser\u001b[0m\u001b[0;34m.\u001b[0m\u001b[0mget_structures\u001b[0m\u001b[0;34m(\u001b[0m\u001b[0;34m)\u001b[0m\u001b[0;34m[\u001b[0m\u001b[0;36m0\u001b[0m\u001b[0;34m]\u001b[0m\u001b[0;34m\u001b[0m\u001b[0;34m\u001b[0m\u001b[0m\n\u001b[1;32m      6\u001b[0m \u001b[0;34m\u001b[0m\u001b[0m\n\u001b[0;32m----> 7\u001b[0;31m \u001b[0mlat\u001b[0m \u001b[0;34m=\u001b[0m \u001b[0mlattice\u001b[0m\u001b[0;34m(\u001b[0m\u001b[0mstructure\u001b[0m\u001b[0;34m)\u001b[0m\u001b[0;34m\u001b[0m\u001b[0;34m\u001b[0m\u001b[0m\n\u001b[0m\u001b[1;32m      8\u001b[0m \u001b[0mprint\u001b[0m\u001b[0;34m(\u001b[0m\u001b[0mstructure\u001b[0m\u001b[0;34m)\u001b[0m\u001b[0;34m\u001b[0m\u001b[0;34m\u001b[0m\u001b[0m\n",
      "\u001b[0;31mTypeError\u001b[0m: 'module' object is not callable"
     ]
    }
   ],
   "source": [
    "from pymatgen.io.cif import CifParser\n",
    "from pymatgen.core.lattice import *\n",
    "\n",
    "parser = CifParser(\"mycif.cif\")\n",
    "structure = parser.get_structures()[0]\n",
    "\n",
    "lat = Lattice(structure)\n",
    "print(structure)"
   ]
  },
  {
   "cell_type": "code",
   "execution_count": 8,
   "metadata": {},
   "outputs": [
    {
     "ename": "ValueError",
     "evalue": "setting an array element with a sequence.",
     "output_type": "error",
     "traceback": [
      "\u001b[0;31m---------------------------------------------------------------------------\u001b[0m",
      "\u001b[0;31mValueError\u001b[0m                                Traceback (most recent call last)",
      "\u001b[0;32m<ipython-input-8-7d694d14ceca>\u001b[0m in \u001b[0;36m<module>\u001b[0;34m\u001b[0m\n\u001b[1;32m      5\u001b[0m \u001b[0mstructure\u001b[0m \u001b[0;34m=\u001b[0m \u001b[0mparser\u001b[0m\u001b[0;34m.\u001b[0m\u001b[0mget_structures\u001b[0m\u001b[0;34m(\u001b[0m\u001b[0;34m)\u001b[0m\u001b[0;34m[\u001b[0m\u001b[0;36m0\u001b[0m\u001b[0;34m]\u001b[0m\u001b[0;34m\u001b[0m\u001b[0;34m\u001b[0m\u001b[0m\n\u001b[1;32m      6\u001b[0m \u001b[0;34m\u001b[0m\u001b[0m\n\u001b[0;32m----> 7\u001b[0;31m \u001b[0mlat\u001b[0m \u001b[0;34m=\u001b[0m \u001b[0mLattice\u001b[0m\u001b[0;34m(\u001b[0m\u001b[0mstructure\u001b[0m\u001b[0;34m)\u001b[0m\u001b[0;34m\u001b[0m\u001b[0;34m\u001b[0m\u001b[0m\n\u001b[0m\u001b[1;32m      8\u001b[0m \u001b[0mprint\u001b[0m\u001b[0;34m(\u001b[0m\u001b[0mstructure\u001b[0m\u001b[0;34m)\u001b[0m\u001b[0;34m\u001b[0m\u001b[0;34m\u001b[0m\u001b[0m\n",
      "\u001b[0;32m/usr/local/lib64/python3.6/site-packages/pymatgen/core/lattice.py\u001b[0m in \u001b[0;36m__init__\u001b[0;34m(self, matrix)\u001b[0m\n\u001b[1;32m     60\u001b[0m                 \u001b[0;32mwith\u001b[0m \u001b[0mlattice\u001b[0m \u001b[0mvectors\u001b[0m \u001b[0;34m[\u001b[0m\u001b[0;36m10\u001b[0m\u001b[0;34m,\u001b[0m \u001b[0;36m0\u001b[0m\u001b[0;34m,\u001b[0m \u001b[0;36m0\u001b[0m\u001b[0;34m]\u001b[0m\u001b[0;34m,\u001b[0m \u001b[0;34m[\u001b[0m\u001b[0;36m20\u001b[0m\u001b[0;34m,\u001b[0m \u001b[0;36m10\u001b[0m\u001b[0;34m,\u001b[0m \u001b[0;36m0\u001b[0m\u001b[0;34m]\u001b[0m \u001b[0;32mand\u001b[0m \u001b[0;34m[\u001b[0m\u001b[0;36m0\u001b[0m\u001b[0;34m,\u001b[0m \u001b[0;36m0\u001b[0m\u001b[0;34m,\u001b[0m \u001b[0;36m30\u001b[0m\u001b[0;34m]\u001b[0m\u001b[0;34m.\u001b[0m\u001b[0;34m\u001b[0m\u001b[0;34m\u001b[0m\u001b[0m\n\u001b[1;32m     61\u001b[0m         \"\"\"\n\u001b[0;32m---> 62\u001b[0;31m         \u001b[0mm\u001b[0m \u001b[0;34m=\u001b[0m \u001b[0mnp\u001b[0m\u001b[0;34m.\u001b[0m\u001b[0marray\u001b[0m\u001b[0;34m(\u001b[0m\u001b[0mmatrix\u001b[0m\u001b[0;34m,\u001b[0m \u001b[0mdtype\u001b[0m\u001b[0;34m=\u001b[0m\u001b[0mnp\u001b[0m\u001b[0;34m.\u001b[0m\u001b[0mfloat64\u001b[0m\u001b[0;34m)\u001b[0m\u001b[0;34m.\u001b[0m\u001b[0mreshape\u001b[0m\u001b[0;34m(\u001b[0m\u001b[0;34m(\u001b[0m\u001b[0;36m3\u001b[0m\u001b[0;34m,\u001b[0m \u001b[0;36m3\u001b[0m\u001b[0;34m)\u001b[0m\u001b[0;34m)\u001b[0m\u001b[0;34m\u001b[0m\u001b[0;34m\u001b[0m\u001b[0m\n\u001b[0m\u001b[1;32m     63\u001b[0m         \u001b[0mm\u001b[0m\u001b[0;34m.\u001b[0m\u001b[0msetflags\u001b[0m\u001b[0;34m(\u001b[0m\u001b[0mwrite\u001b[0m\u001b[0;34m=\u001b[0m\u001b[0;32mFalse\u001b[0m\u001b[0;34m)\u001b[0m\u001b[0;34m\u001b[0m\u001b[0;34m\u001b[0m\u001b[0m\n\u001b[1;32m     64\u001b[0m         \u001b[0mself\u001b[0m\u001b[0;34m.\u001b[0m\u001b[0m_matrix\u001b[0m \u001b[0;34m=\u001b[0m \u001b[0mm\u001b[0m  \u001b[0;31m# type: np.ndarray\u001b[0m\u001b[0;34m\u001b[0m\u001b[0;34m\u001b[0m\u001b[0m\n",
      "\u001b[0;31mValueError\u001b[0m: setting an array element with a sequence."
     ]
    }
   ],
   "source": [
    "from pymatgen.io.cif import CifParser\n",
    "from pymatgen.core.lattice import *\n",
    "\n",
    "parser = CifParser(\"mycif.cif\")\n",
    "structure = parser.get_structures()[0]\n",
    "\n",
    "lat = structure.lattice\n",
    "print(structure)"
   ]
  },
  {
   "cell_type": "code",
   "execution_count": 9,
   "metadata": {},
   "outputs": [
    {
     "name": "stdout",
     "output_type": "stream",
     "text": [
      "Full Formula (Tb1 Tl1 Se2)\n",
      "Reduced Formula: TbTlSe2\n",
      "abc   :   4.204012   4.204012   8.150342\n",
      "angles:  75.054268  75.054268  60.000000\n",
      "Sites (4)\n",
      "  #  SP           a         b         c\n",
      "---  ----  --------  --------  --------\n",
      "  0  Se    0.265164  0.265164  0.204508\n",
      "  1  Se    0.734836  0.734836  0.795492\n",
      "  2  Tb    0         0         0\n",
      "  3  Tl    0.5       0.5       0.5\n"
     ]
    }
   ],
   "source": [
    "from pymatgen.io.cif import CifParser\n",
    "from pymatgen.core.lattice import *\n",
    "\n",
    "parser = CifParser(\"mycif.cif\")\n",
    "structure = parser.get_structures()[0]\n",
    "\n",
    "lat = structure.lattice\n",
    "print(structure)"
   ]
  },
  {
   "cell_type": "code",
   "execution_count": 10,
   "metadata": {},
   "outputs": [
    {
     "name": "stdout",
     "output_type": "stream",
     "text": [
      "ok\n",
      "Full Formula (Tb1 Tl1 Se2)\n",
      "Reduced Formula: TbTlSe2\n",
      "abc   :   4.204012   4.204012   8.150342\n",
      "angles:  75.054268  75.054268  60.000000\n",
      "Sites (4)\n",
      "  #  SP           a         b         c\n",
      "---  ----  --------  --------  --------\n",
      "  0  Se    0.265164  0.265164  0.204508\n",
      "  1  Se    0.734836  0.734836  0.795492\n",
      "  2  Tb    0         0         0\n",
      "  3  Tl    0.5       0.5       0.5\n"
     ]
    }
   ],
   "source": [
    "from pymatgen.io.cif import CifParser\n",
    "from pymatgen.core.lattice import *\n",
    "\n",
    "parser = CifParser(\"mycif.cif\")\n",
    "structure = parser.get_structures()[0]\n",
    "\n",
    "lat = structure.lattice\n",
    "print(\"ok\")\n",
    "print(structure)"
   ]
  },
  {
   "cell_type": "code",
   "execution_count": 11,
   "metadata": {},
   "outputs": [
    {
     "ename": "TypeError",
     "evalue": "'tuple' object is not callable",
     "output_type": "error",
     "traceback": [
      "\u001b[0;31m---------------------------------------------------------------------------\u001b[0m",
      "\u001b[0;31mTypeError\u001b[0m                                 Traceback (most recent call last)",
      "\u001b[0;32m<ipython-input-11-6cb0e68abd11>\u001b[0m in \u001b[0;36m<module>\u001b[0;34m\u001b[0m\n\u001b[1;32m      6\u001b[0m \u001b[0;34m\u001b[0m\u001b[0m\n\u001b[1;32m      7\u001b[0m \u001b[0mlat\u001b[0m \u001b[0;34m=\u001b[0m \u001b[0mstructure\u001b[0m\u001b[0;34m.\u001b[0m\u001b[0mlattice\u001b[0m\u001b[0;34m\u001b[0m\u001b[0;34m\u001b[0m\u001b[0m\n\u001b[0;32m----> 8\u001b[0;31m \u001b[0mabc\u001b[0m \u001b[0;34m=\u001b[0m \u001b[0mlat\u001b[0m\u001b[0;34m.\u001b[0m\u001b[0mabc\u001b[0m\u001b[0;34m(\u001b[0m\u001b[0;34m)\u001b[0m\u001b[0;34m\u001b[0m\u001b[0;34m\u001b[0m\u001b[0m\n\u001b[0m\u001b[1;32m      9\u001b[0m \u001b[0mprint\u001b[0m\u001b[0;34m(\u001b[0m\u001b[0mabc\u001b[0m\u001b[0;34m)\u001b[0m\u001b[0;34m\u001b[0m\u001b[0;34m\u001b[0m\u001b[0m\n",
      "\u001b[0;31mTypeError\u001b[0m: 'tuple' object is not callable"
     ]
    }
   ],
   "source": [
    "from pymatgen.io.cif import CifParser\n",
    "from pymatgen.core.lattice import *\n",
    "\n",
    "parser = CifParser(\"mycif.cif\")\n",
    "structure = parser.get_structures()[0]\n",
    "\n",
    "lat = structure.lattice\n",
    "abc = lat.abc()\n",
    "print(abc)"
   ]
  },
  {
   "cell_type": "code",
   "execution_count": 12,
   "metadata": {},
   "outputs": [
    {
     "name": "stdout",
     "output_type": "stream",
     "text": [
      "(4.204012350000002, 4.20401235, 8.150342138587735)\n"
     ]
    }
   ],
   "source": [
    "from pymatgen.io.cif import CifParser\n",
    "from pymatgen.core.lattice import *\n",
    "\n",
    "parser = CifParser(\"mycif.cif\")\n",
    "structure = parser.get_structures()[0]\n",
    "\n",
    "lat = structure.lattice\n",
    "abc = lat.abc\n",
    "print(\"vecteur de base du reseau dircet : \" + abc)"
   ]
  },
  {
   "cell_type": "code",
   "execution_count": 13,
   "metadata": {},
   "outputs": [
    {
     "ename": "TypeError",
     "evalue": "must be str, not tuple",
     "output_type": "error",
     "traceback": [
      "\u001b[0;31m---------------------------------------------------------------------------\u001b[0m",
      "\u001b[0;31mTypeError\u001b[0m                                 Traceback (most recent call last)",
      "\u001b[0;32m<ipython-input-13-05ec97823160>\u001b[0m in \u001b[0;36m<module>\u001b[0;34m\u001b[0m\n\u001b[1;32m      7\u001b[0m \u001b[0mlat\u001b[0m \u001b[0;34m=\u001b[0m \u001b[0mstructure\u001b[0m\u001b[0;34m.\u001b[0m\u001b[0mlattice\u001b[0m\u001b[0;34m\u001b[0m\u001b[0;34m\u001b[0m\u001b[0m\n\u001b[1;32m      8\u001b[0m \u001b[0mabc\u001b[0m \u001b[0;34m=\u001b[0m \u001b[0mlat\u001b[0m\u001b[0;34m.\u001b[0m\u001b[0mabc\u001b[0m\u001b[0;34m\u001b[0m\u001b[0;34m\u001b[0m\u001b[0m\n\u001b[0;32m----> 9\u001b[0;31m \u001b[0mprint\u001b[0m\u001b[0;34m(\u001b[0m\u001b[0;34m\"vecteur de base du reseau dircet : \"\u001b[0m \u001b[0;34m+\u001b[0m \u001b[0mabc\u001b[0m\u001b[0;34m)\u001b[0m\u001b[0;34m\u001b[0m\u001b[0;34m\u001b[0m\u001b[0m\n\u001b[0m\u001b[1;32m     10\u001b[0m \u001b[0mabcprim\u001b[0m \u001b[0;34m=\u001b[0m \u001b[0mlat\u001b[0m\u001b[0;34m.\u001b[0m\u001b[0mreciprocal_lattice\u001b[0m\u001b[0;34m.\u001b[0m\u001b[0mabc\u001b[0m\u001b[0;34m\u001b[0m\u001b[0;34m\u001b[0m\u001b[0m\n\u001b[1;32m     11\u001b[0m \u001b[0mprint\u001b[0m\u001b[0;34m(\u001b[0m\u001b[0;34m\"Vecteurs de base du reseau reciproque : \"\u001b[0m \u001b[0;34m+\u001b[0m \u001b[0mabcprim\u001b[0m\u001b[0;34m)\u001b[0m\u001b[0;34m\u001b[0m\u001b[0;34m\u001b[0m\u001b[0m\n",
      "\u001b[0;31mTypeError\u001b[0m: must be str, not tuple"
     ]
    }
   ],
   "source": [
    "from pymatgen.io.cif import CifParser\n",
    "from pymatgen.core.lattice import *\n",
    "\n",
    "parser = CifParser(\"mycif.cif\")\n",
    "structure = parser.get_structures()[0]\n",
    "\n",
    "lat = structure.lattice\n",
    "abc = lat.abc\n",
    "print(\"vecteur de base du reseau dircet : \" + abc)\n",
    "abcprim = lat.reciprocal_lattice.abc\n",
    "print(\"Vecteurs de base du reseau reciproque : \" + abcprim)"
   ]
  },
  {
   "cell_type": "code",
   "execution_count": 14,
   "metadata": {},
   "outputs": [
    {
     "name": "stdout",
     "output_type": "stream",
     "text": [
      "vecteur de base du reseau dircet : \n",
      "(4.204012350000002, 4.20401235, 8.150342138587735)\n",
      "Vecteurs de base du reseau reciproque : \n",
      "(1.7466465087391623, 1.7466465087391627, 0.8075510858094069)\n"
     ]
    }
   ],
   "source": [
    "from pymatgen.io.cif import CifParser\n",
    "from pymatgen.core.lattice import *\n",
    "\n",
    "parser = CifParser(\"mycif.cif\")\n",
    "structure = parser.get_structures()[0]\n",
    "\n",
    "lat = structure.lattice\n",
    "abc = lat.abc\n",
    "print(\"vecteur de base du reseau dircet : \")\n",
    "print(abc)\n",
    "abcprim = lat.reciprocal_lattice.abc\n",
    "print(\"Vecteurs de base du reseau reciproque : \")\n",
    "print(abcprim)"
   ]
  },
  {
   "cell_type": "code",
   "execution_count": 15,
   "metadata": {},
   "outputs": [
    {
     "ename": "TypeError",
     "evalue": "must be str, not tuple",
     "output_type": "error",
     "traceback": [
      "\u001b[0;31m---------------------------------------------------------------------------\u001b[0m",
      "\u001b[0;31mTypeError\u001b[0m                                 Traceback (most recent call last)",
      "\u001b[0;32m<ipython-input-15-aaa4d27eb1ef>\u001b[0m in \u001b[0;36m<module>\u001b[0;34m\u001b[0m\n\u001b[1;32m      7\u001b[0m \u001b[0mlat\u001b[0m \u001b[0;34m=\u001b[0m \u001b[0mstructure\u001b[0m\u001b[0;34m.\u001b[0m\u001b[0mlattice\u001b[0m\u001b[0;34m\u001b[0m\u001b[0;34m\u001b[0m\u001b[0m\n\u001b[1;32m      8\u001b[0m \u001b[0mabc\u001b[0m \u001b[0;34m=\u001b[0m \u001b[0mlat\u001b[0m\u001b[0;34m.\u001b[0m\u001b[0mabc\u001b[0m\u001b[0;34m\u001b[0m\u001b[0;34m\u001b[0m\u001b[0m\n\u001b[0;32m----> 9\u001b[0;31m \u001b[0mprint\u001b[0m\u001b[0;34m(\u001b[0m\u001b[0;34m\"vecteur de base du reseau direct : \"\u001b[0m \u001b[0;34m+\u001b[0m \u001b[0mabc\u001b[0m\u001b[0;34m)\u001b[0m\u001b[0;34m\u001b[0m\u001b[0;34m\u001b[0m\u001b[0m\n\u001b[0m\u001b[1;32m     10\u001b[0m \u001b[0mabcprim\u001b[0m \u001b[0;34m=\u001b[0m \u001b[0mlat\u001b[0m\u001b[0;34m.\u001b[0m\u001b[0mreciprocal_lattice\u001b[0m\u001b[0;34m.\u001b[0m\u001b[0mabc\u001b[0m\u001b[0;34m\u001b[0m\u001b[0;34m\u001b[0m\u001b[0m\n\u001b[1;32m     11\u001b[0m \u001b[0mprint\u001b[0m\u001b[0;34m(\u001b[0m\u001b[0;34m\"Vecteurs de base du reseau reciproque : \"\u001b[0m \u001b[0;34m+\u001b[0m \u001b[0mabcprim\u001b[0m\u001b[0;34m)\u001b[0m\u001b[0;34m\u001b[0m\u001b[0;34m\u001b[0m\u001b[0m\n",
      "\u001b[0;31mTypeError\u001b[0m: must be str, not tuple"
     ]
    }
   ],
   "source": [
    "from pymatgen.io.cif import CifParser\n",
    "from pymatgen.core.lattice import *\n",
    "\n",
    "parser = CifParser(\"mycif.cif\")\n",
    "structure = parser.get_structures()[0]\n",
    "\n",
    "lat = structure.lattice\n",
    "abc = lat.abc\n",
    "print(\"vecteur de base du reseau direct : \" + abc)\n",
    "abcprim = lat.reciprocal_lattice.abc\n",
    "print(\"Vecteurs de base du reseau reciproque : \" + abcprim)\n",
    "print(lat.a)"
   ]
  },
  {
   "cell_type": "code",
   "execution_count": 16,
   "metadata": {},
   "outputs": [
    {
     "name": "stdout",
     "output_type": "stream",
     "text": [
      "vecteur de base du reseau dircet : \n",
      "(4.204012350000002, 4.20401235, 8.150342138587735)\n",
      "Vecteurs de base du reseau reciproque : \n",
      "(1.7466465087391623, 1.7466465087391627, 0.8075510858094069)\n",
      "4.204012350000002\n"
     ]
    }
   ],
   "source": [
    "from pymatgen.io.cif import CifParser\n",
    "from pymatgen.core.lattice import *\n",
    "\n",
    "parser = CifParser(\"mycif.cif\")\n",
    "structure = parser.get_structures()[0]\n",
    "\n",
    "lat = structure.lattice\n",
    "abc = lat.abc\n",
    "print(\"vecteur de base du reseau dircet : \")\n",
    "print(abc)\n",
    "abcprim = lat.reciprocal_lattice.abc\n",
    "print(\"Vecteurs de base du reseau reciproque : \")\n",
    "print(abcprim)\n",
    "print(lat.a)"
   ]
  },
  {
   "cell_type": "code",
   "execution_count": 17,
   "metadata": {},
   "outputs": [
    {
     "name": "stdout",
     "output_type": "stream",
     "text": [
      "vecteur de base du reseau dircet : \n",
      "(4.204012350000002, 4.20401235, 8.150342138587735)\n",
      "Vecteurs de base du reseau reciproque : \n",
      "(1.7466465087391623, 1.7466465087391627, 0.8075510858094069)\n"
     ]
    }
   ],
   "source": [
    "from pymatgen.io.cif import CifParser\n",
    "from pymatgen.core.lattice import *\n",
    "\n",
    "parser = CifParser(\"TbTlSe2_mp-569507_symmetrized.cif\")\n",
    "structure = parser.get_structures()[0]\n",
    "\n",
    "lat = structure.lattice\n",
    "abc = lat.abc\n",
    "print(\"vecteur de base du reseau dircet : \")\n",
    "print(abc)\n",
    "abcprim = lat.reciprocal_lattice.abc\n",
    "print(\"Vecteurs de base du reseau reciproque : \")\n",
    "print(abcprim)"
   ]
  },
  {
   "cell_type": "code",
   "execution_count": 18,
   "metadata": {},
   "outputs": [
    {
     "name": "stdout",
     "output_type": "stream",
     "text": [
      "vecteur de base du reseau dircet : \n",
      "(4.204012350000002, 4.20401235, 8.150342138587735)\n",
      "Vecteurs de base du reseau reciproque : \n",
      "(1.7466465087391623, 1.7466465087391627, 0.8075510858094069)\n"
     ]
    },
    {
     "ename": "NameError",
     "evalue": "name 'SpaceGroupAnalyser' is not defined",
     "output_type": "error",
     "traceback": [
      "\u001b[0;31m---------------------------------------------------------------------------\u001b[0m",
      "\u001b[0;31mNameError\u001b[0m                                 Traceback (most recent call last)",
      "\u001b[0;32m<ipython-input-18-2480bed87791>\u001b[0m in \u001b[0;36m<module>\u001b[0;34m\u001b[0m\n\u001b[1;32m     13\u001b[0m \u001b[0mprint\u001b[0m\u001b[0;34m(\u001b[0m\u001b[0;34m\"Vecteurs de base du reseau reciproque : \"\u001b[0m\u001b[0;34m)\u001b[0m\u001b[0;34m\u001b[0m\u001b[0;34m\u001b[0m\u001b[0m\n\u001b[1;32m     14\u001b[0m \u001b[0mprint\u001b[0m\u001b[0;34m(\u001b[0m\u001b[0mabcprim\u001b[0m\u001b[0;34m)\u001b[0m\u001b[0;34m\u001b[0m\u001b[0;34m\u001b[0m\u001b[0m\n\u001b[0;32m---> 15\u001b[0;31m \u001b[0mspacegroupe\u001b[0m \u001b[0;34m=\u001b[0m \u001b[0mSpaceGroupAnalyser\u001b[0m\u001b[0;34m(\u001b[0m\u001b[0mstructure\u001b[0m\u001b[0;34m)\u001b[0m\u001b[0;34m\u001b[0m\u001b[0;34m\u001b[0m\u001b[0m\n\u001b[0m",
      "\u001b[0;31mNameError\u001b[0m: name 'SpaceGroupAnalyser' is not defined"
     ]
    }
   ],
   "source": [
    "from pymatgen.symmetry.analyzer import SpacegroupAnalyzer\n",
    "from pymatgen.io.cif import CifParser\n",
    "from pymatgen.core.lattice import *\n",
    "\n",
    "parser = CifParser(\"TbTlSe2_mp-569507_symmetrized.cif\")\n",
    "structure = parser.get_structures()[0]\n",
    "\n",
    "lat = structure.lattice\n",
    "abc = lat.abc\n",
    "print(\"vecteur de base du reseau dircet : \")\n",
    "print(abc)\n",
    "abcprim = lat.reciprocal_lattice.abc\n",
    "print(\"Vecteurs de base du reseau reciproque : \")\n",
    "print(abcprim)\n",
    "spacegroupe = SpaceGroupAnalyser(structure)"
   ]
  },
  {
   "cell_type": "code",
   "execution_count": 19,
   "metadata": {},
   "outputs": [
    {
     "name": "stdout",
     "output_type": "stream",
     "text": [
      "vecteur de base du reseau dircet : \n",
      "(4.204012350000002, 4.20401235, 8.150342138587735)\n",
      "Vecteurs de base du reseau reciproque : \n",
      "(1.7466465087391623, 1.7466465087391627, 0.8075510858094069)\n"
     ]
    }
   ],
   "source": [
    "from pymatgen.symmetry.analyzer import SpacegroupAnalyzer\n",
    "from pymatgen.io.cif import CifParser\n",
    "from pymatgen.core.lattice import *\n",
    "\n",
    "parser = CifParser(\"TbTlSe2_mp-569507_symmetrized.cif\")\n",
    "structure = parser.get_structures()[0]\n",
    "\n",
    "lat = structure.lattice\n",
    "abc = lat.abc\n",
    "print(\"vecteur de base du reseau dircet : \")\n",
    "print(abc)\n",
    "abcprim = lat.reciprocal_lattice.abc\n",
    "print(\"Vecteurs de base du reseau reciproque : \")\n",
    "print(abcprim)\n",
    "spacegroupe = SpacegroupAnalyzer(structure)"
   ]
  },
  {
   "cell_type": "code",
   "execution_count": 20,
   "metadata": {},
   "outputs": [
    {
     "name": "stdout",
     "output_type": "stream",
     "text": [
      "vecteur de base du reseau dircet : \n",
      "(4.204012350000002, 4.20401235, 8.150342138587735)\n",
      "Vecteurs de base du reseau reciproque : \n",
      "(1.7466465087391623, 1.7466465087391627, 0.8075510858094069)\n",
      "Le type de maille est :\n",
      "rhombohedral\n"
     ]
    }
   ],
   "source": [
    "from pymatgen.symmetry.analyzer import SpacegroupAnalyzer\n",
    "from pymatgen.io.cif import CifParser\n",
    "from pymatgen.core.lattice import *\n",
    "\n",
    "parser = CifParser(\"TbTlSe2_mp-569507_symmetrized.cif\")\n",
    "structure = parser.get_structures()[0]\n",
    "\n",
    "lat = structure.lattice\n",
    "abc = lat.abc\n",
    "print(\"vecteur de base du reseau dircet : \")\n",
    "print(abc)\n",
    "abcprim = lat.reciprocal_lattice.abc\n",
    "print(\"Vecteurs de base du reseau reciproque : \")\n",
    "print(abcprim)\n",
    "latType = spacegroupe.get_lattice_type()\n",
    "print(\"Le type de maille est :\")\n",
    "print(latType)"
   ]
  },
  {
   "cell_type": "code",
   "execution_count": 21,
   "metadata": {},
   "outputs": [
    {
     "name": "stdout",
     "output_type": "stream",
     "text": [
      "vecteur de base du reseau dircet : \n",
      "(4.204012350000002, 4.20401235, 8.150342138587735)\n",
      "Vecteurs de base du reseau reciproque : \n",
      "(1.7466465087391623, 1.7466465087391627, 0.8075510858094069)\n",
      "Le type de maille est :\n",
      "rhombohedral\n",
      "le systeme crystalin est :\n",
      "trigonal\n"
     ]
    }
   ],
   "source": [
    "from pymatgen.symmetry.analyzer import SpacegroupAnalyzer\n",
    "from pymatgen.io.cif import CifParser\n",
    "from pymatgen.core.lattice import *\n",
    "\n",
    "parser = CifParser(\"TbTlSe2_mp-569507_symmetrized.cif\")\n",
    "structure = parser.get_structures()[0]\n",
    "\n",
    "lat = structure.lattice\n",
    "abc = lat.abc\n",
    "print(\"vecteur de base du reseau dircet : \")\n",
    "print(abc)\n",
    "abcprim = lat.reciprocal_lattice.abc\n",
    "print(\"Vecteurs de base du reseau reciproque : \")\n",
    "print(abcprim)\n",
    "latType = spacegroupe.get_lattice_type()\n",
    "print(\"Le type de maille est :\")\n",
    "print(latType)\n",
    "latCryst = spacegroupe.get_crystal_system()\n",
    "print(\"le systeme cristalin est :\")\n",
    "print(latCryst)"
   ]
  },
  {
   "cell_type": "code",
   "execution_count": 22,
   "metadata": {},
   "outputs": [
    {
     "name": "stdout",
     "output_type": "stream",
     "text": [
      "vecteur de base du reseau dircet : \n",
      "(4.204012350000002, 4.20401235, 8.150342138587735)\n",
      "Vecteurs de base du reseau reciproque : \n",
      "(1.7466465087391623, 1.7466465087391627, 0.8075510858094069)\n",
      "Le type de maille est :\n",
      "rhombohedral\n",
      "le systeme cristalin est :\n",
      "trigonal\n"
     ]
    },
    {
     "ename": "AttributeError",
     "evalue": "'SpacegroupAnalyzer' object has no attribute 'gatHall'",
     "output_type": "error",
     "traceback": [
      "\u001b[0;31m---------------------------------------------------------------------------\u001b[0m",
      "\u001b[0;31mAttributeError\u001b[0m                            Traceback (most recent call last)",
      "\u001b[0;32m<ipython-input-22-3e89468371a6>\u001b[0m in \u001b[0;36m<module>\u001b[0;34m\u001b[0m\n\u001b[1;32m     19\u001b[0m \u001b[0mprint\u001b[0m\u001b[0;34m(\u001b[0m\u001b[0;34m\"le systeme cristalin est :\"\u001b[0m\u001b[0;34m)\u001b[0m\u001b[0;34m\u001b[0m\u001b[0;34m\u001b[0m\u001b[0m\n\u001b[1;32m     20\u001b[0m \u001b[0mprint\u001b[0m\u001b[0;34m(\u001b[0m\u001b[0mlatCryst\u001b[0m\u001b[0;34m)\u001b[0m\u001b[0;34m\u001b[0m\u001b[0;34m\u001b[0m\u001b[0m\n\u001b[0;32m---> 21\u001b[0;31m \u001b[0mlatGroupe\u001b[0m \u001b[0;34m=\u001b[0m \u001b[0mspacegroupe\u001b[0m\u001b[0;34m.\u001b[0m\u001b[0mgatHall\u001b[0m\u001b[0;34m(\u001b[0m\u001b[0;34m)\u001b[0m\u001b[0;34m\u001b[0m\u001b[0;34m\u001b[0m\u001b[0m\n\u001b[0m\u001b[1;32m     22\u001b[0m \u001b[0mprint\u001b[0m\u001b[0;34m(\u001b[0m\u001b[0;34m\"Le groupe ponctuel est :\"\u001b[0m\u001b[0;34m)\u001b[0m\u001b[0;34m\u001b[0m\u001b[0;34m\u001b[0m\u001b[0m\n\u001b[1;32m     23\u001b[0m \u001b[0mprint\u001b[0m\u001b[0;34m(\u001b[0m\u001b[0mlatGroupe\u001b[0m\u001b[0;34m)\u001b[0m\u001b[0;34m\u001b[0m\u001b[0;34m\u001b[0m\u001b[0m\n",
      "\u001b[0;31mAttributeError\u001b[0m: 'SpacegroupAnalyzer' object has no attribute 'gatHall'"
     ]
    }
   ],
   "source": [
    "from pymatgen.symmetry.analyzer import SpacegroupAnalyzer\n",
    "from pymatgen.io.cif import CifParser\n",
    "from pymatgen.core.lattice import *\n",
    "\n",
    "parser = CifParser(\"TbTlSe2_mp-569507_symmetrized.cif\")\n",
    "structure = parser.get_structures()[0]\n",
    "\n",
    "lat = structure.lattice\n",
    "abc = lat.abc\n",
    "print(\"vecteur de base du reseau dircet : \")\n",
    "print(abc)\n",
    "abcprim = lat.reciprocal_lattice.abc\n",
    "print(\"Vecteurs de base du reseau reciproque : \")\n",
    "print(abcprim)\n",
    "latType = spacegroupe.get_lattice_type()\n",
    "print(\"Le type de maille est :\")\n",
    "print(latType)\n",
    "latCryst = spacegroupe.get_crystal_system()\n",
    "print(\"le systeme cristalin est :\")\n",
    "print(latCryst)\n",
    "latGroupe = spacegroupe.gatHall()\n",
    "print(\"Le groupe ponctuel est :\")\n",
    "print(latGroupe)"
   ]
  },
  {
   "cell_type": "code",
   "execution_count": 23,
   "metadata": {},
   "outputs": [
    {
     "name": "stdout",
     "output_type": "stream",
     "text": [
      "vecteur de base du reseau dircet : \n",
      "(4.204012350000002, 4.20401235, 8.150342138587735)\n",
      "Vecteurs de base du reseau reciproque : \n",
      "(1.7466465087391623, 1.7466465087391627, 0.8075510858094069)\n",
      "Le type de maille est :\n",
      "rhombohedral\n",
      "le systeme cristalin est :\n",
      "trigonal\n"
     ]
    },
    {
     "ename": "AttributeError",
     "evalue": "'SpacegroupAnalyzer' object has no attribute 'gat_hall'",
     "output_type": "error",
     "traceback": [
      "\u001b[0;31m---------------------------------------------------------------------------\u001b[0m",
      "\u001b[0;31mAttributeError\u001b[0m                            Traceback (most recent call last)",
      "\u001b[0;32m<ipython-input-23-630424d2e35b>\u001b[0m in \u001b[0;36m<module>\u001b[0;34m\u001b[0m\n\u001b[1;32m     19\u001b[0m \u001b[0mprint\u001b[0m\u001b[0;34m(\u001b[0m\u001b[0;34m\"le systeme cristalin est :\"\u001b[0m\u001b[0;34m)\u001b[0m\u001b[0;34m\u001b[0m\u001b[0;34m\u001b[0m\u001b[0m\n\u001b[1;32m     20\u001b[0m \u001b[0mprint\u001b[0m\u001b[0;34m(\u001b[0m\u001b[0mlatCryst\u001b[0m\u001b[0;34m)\u001b[0m\u001b[0;34m\u001b[0m\u001b[0;34m\u001b[0m\u001b[0m\n\u001b[0;32m---> 21\u001b[0;31m \u001b[0mlatGroupe\u001b[0m \u001b[0;34m=\u001b[0m \u001b[0mspacegroupe\u001b[0m\u001b[0;34m.\u001b[0m\u001b[0mgat_hall\u001b[0m\u001b[0;34m(\u001b[0m\u001b[0;34m)\u001b[0m\u001b[0;34m\u001b[0m\u001b[0;34m\u001b[0m\u001b[0m\n\u001b[0m\u001b[1;32m     22\u001b[0m \u001b[0mprint\u001b[0m\u001b[0;34m(\u001b[0m\u001b[0;34m\"Le groupe ponctuel est :\"\u001b[0m\u001b[0;34m)\u001b[0m\u001b[0;34m\u001b[0m\u001b[0;34m\u001b[0m\u001b[0m\n\u001b[1;32m     23\u001b[0m \u001b[0mprint\u001b[0m\u001b[0;34m(\u001b[0m\u001b[0mlatGroupe\u001b[0m\u001b[0;34m)\u001b[0m\u001b[0;34m\u001b[0m\u001b[0;34m\u001b[0m\u001b[0m\n",
      "\u001b[0;31mAttributeError\u001b[0m: 'SpacegroupAnalyzer' object has no attribute 'gat_hall'"
     ]
    }
   ],
   "source": [
    "from pymatgen.symmetry.analyzer import SpacegroupAnalyzer\n",
    "from pymatgen.io.cif import CifParser\n",
    "from pymatgen.core.lattice import *\n",
    "\n",
    "parser = CifParser(\"TbTlSe2_mp-569507_symmetrized.cif\")\n",
    "structure = parser.get_structures()[0]\n",
    "\n",
    "lat = structure.lattice\n",
    "abc = lat.abc\n",
    "print(\"vecteur de base du reseau dircet : \")\n",
    "print(abc)\n",
    "abcprim = lat.reciprocal_lattice.abc\n",
    "print(\"Vecteurs de base du reseau reciproque : \")\n",
    "print(abcprim)\n",
    "latType = spacegroupe.get_lattice_type()\n",
    "print(\"Le type de maille est :\")\n",
    "print(latType)\n",
    "latCryst = spacegroupe.get_crystal_system()\n",
    "print(\"le systeme cristalin est :\")\n",
    "print(latCryst)\n",
    "latGroupe = spacegroupe.gat_hall()\n",
    "print(\"Le groupe ponctuel est :\")\n",
    "print(latGroupe)"
   ]
  },
  {
   "cell_type": "code",
   "execution_count": 24,
   "metadata": {},
   "outputs": [
    {
     "name": "stdout",
     "output_type": "stream",
     "text": [
      "vecteur de base du reseau dircet : \n",
      "(4.204012350000002, 4.20401235, 8.150342138587735)\n",
      "Vecteurs de base du reseau reciproque : \n",
      "(1.7466465087391623, 1.7466465087391627, 0.8075510858094069)\n",
      "Le type de maille est :\n",
      "rhombohedral\n",
      "le systeme cristalin est :\n",
      "trigonal\n",
      "Le groupe ponctuel est :\n",
      "-R 3 2\"\n"
     ]
    }
   ],
   "source": [
    "from pymatgen.symmetry.analyzer import SpacegroupAnalyzer\n",
    "from pymatgen.io.cif import CifParser\n",
    "from pymatgen.core.lattice import *\n",
    "\n",
    "parser = CifParser(\"TbTlSe2_mp-569507_symmetrized.cif\")\n",
    "structure = parser.get_structures()[0]\n",
    "\n",
    "lat = structure.lattice\n",
    "abc = lat.abc\n",
    "print(\"vecteur de base du reseau dircet : \")\n",
    "print(abc)\n",
    "abcprim = lat.reciprocal_lattice.abc\n",
    "print(\"Vecteurs de base du reseau reciproque : \")\n",
    "print(abcprim)\n",
    "latType = spacegroupe.get_lattice_type()\n",
    "print(\"Le type de maille est :\")\n",
    "print(latType)\n",
    "latCryst = spacegroupe.get_crystal_system()\n",
    "print(\"le systeme cristalin est :\")\n",
    "print(latCryst)\n",
    "latGroupe = spacegroupe.get_hall()\n",
    "print(\"Le groupe ponctuel est :\")\n",
    "print(latGroupe)"
   ]
  },
  {
   "cell_type": "code",
   "execution_count": null,
   "metadata": {},
   "outputs": [],
   "source": []
  }
 ],
 "metadata": {
  "kernelspec": {
   "display_name": "Python 3",
   "language": "python",
   "name": "python3"
  },
  "language_info": {
   "codemirror_mode": {
    "name": "ipython",
    "version": 3
   },
   "file_extension": ".py",
   "mimetype": "text/x-python",
   "name": "python",
   "nbconvert_exporter": "python",
   "pygments_lexer": "ipython3",
   "version": "3.6.8"
  }
 },
 "nbformat": 4,
 "nbformat_minor": 2
}
